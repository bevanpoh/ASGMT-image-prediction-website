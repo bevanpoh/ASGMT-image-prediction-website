{
 "cells": [
  {
   "cell_type": "code",
   "execution_count": 1,
   "metadata": {},
   "outputs": [
    {
     "name": "stderr",
     "output_type": "stream",
     "text": [
      "2023-02-12 08:30:01.475703: I tensorflow/core/platform/cpu_feature_guard.cc:193] This TensorFlow binary is optimized with oneAPI Deep Neural Network Library (oneDNN) to use the following CPU instructions in performance-critical operations:  AVX2 FMA\n",
      "To enable them in other operations, rebuild TensorFlow with the appropriate compiler flags.\n",
      "2023-02-12 08:30:01.919267: W tensorflow/compiler/xla/stream_executor/platform/default/dso_loader.cc:64] Could not load dynamic library 'libcudart.so.11.0'; dlerror: libcudart.so.11.0: cannot open shared object file: No such file or directory\n",
      "2023-02-12 08:30:01.919300: I tensorflow/compiler/xla/stream_executor/cuda/cudart_stub.cc:29] Ignore above cudart dlerror if you do not have a GPU set up on your machine.\n",
      "2023-02-12 08:30:03.520584: W tensorflow/compiler/xla/stream_executor/platform/default/dso_loader.cc:64] Could not load dynamic library 'libnvinfer.so.7'; dlerror: libnvinfer.so.7: cannot open shared object file: No such file or directory\n",
      "2023-02-12 08:30:03.520748: W tensorflow/compiler/xla/stream_executor/platform/default/dso_loader.cc:64] Could not load dynamic library 'libnvinfer_plugin.so.7'; dlerror: libnvinfer_plugin.so.7: cannot open shared object file: No such file or directory\n",
      "2023-02-12 08:30:03.520757: W tensorflow/compiler/tf2tensorrt/utils/py_utils.cc:38] TF-TRT Warning: Cannot dlopen some TensorRT libraries. If you would like to use Nvidia GPU with TensorRT, please make sure the missing libraries mentioned above are installed properly.\n"
     ]
    }
   ],
   "source": [
    "import tensorflow as tf\n",
    "import tensorflow.keras as keras"
   ]
  },
  {
   "cell_type": "code",
   "execution_count": 3,
   "metadata": {},
   "outputs": [
    {
     "name": "stderr",
     "output_type": "stream",
     "text": [
      "2023-02-12 08:30:19.353967: W tensorflow/compiler/xla/stream_executor/platform/default/dso_loader.cc:64] Could not load dynamic library 'libcuda.so.1'; dlerror: libcuda.so.1: cannot open shared object file: No such file or directory\n",
      "2023-02-12 08:30:19.354506: W tensorflow/compiler/xla/stream_executor/cuda/cuda_driver.cc:265] failed call to cuInit: UNKNOWN ERROR (303)\n",
      "2023-02-12 08:30:19.354535: I tensorflow/compiler/xla/stream_executor/cuda/cuda_diagnostics.cc:156] kernel driver does not appear to be running on this host (4046641ea37e): /proc/driver/nvidia/version does not exist\n",
      "2023-02-12 08:30:19.356105: I tensorflow/core/platform/cpu_feature_guard.cc:193] This TensorFlow binary is optimized with oneAPI Deep Neural Network Library (oneDNN) to use the following CPU instructions in performance-critical operations:  AVX2 FMA\n",
      "To enable them in other operations, rebuild TensorFlow with the appropriate compiler flags.\n"
     ]
    },
    {
     "name": "stdout",
     "output_type": "stream",
     "text": [
      "WARNING:tensorflow:Using a while_loop for converting RngReadAndSkip cause there is no registered converter for this op.\n",
      "WARNING:tensorflow:Using a while_loop for converting Bitcast cause there is no registered converter for this op.\n",
      "WARNING:tensorflow:Using a while_loop for converting Bitcast cause there is no registered converter for this op.\n",
      "WARNING:tensorflow:Using a while_loop for converting StatelessRandomUniformV2 cause there is no registered converter for this op.\n",
      "WARNING:tensorflow:Using a while_loop for converting ImageProjectiveTransformV3 cause there is no registered converter for this op.\n",
      "WARNING:tensorflow:Using a while_loop for converting RngReadAndSkip cause there is no registered converter for this op.\n",
      "WARNING:tensorflow:Using a while_loop for converting Bitcast cause there is no registered converter for this op.\n",
      "WARNING:tensorflow:Using a while_loop for converting Bitcast cause there is no registered converter for this op.\n",
      "WARNING:tensorflow:Using a while_loop for converting StatelessRandomUniformV2 cause there is no registered converter for this op.\n",
      "WARNING:tensorflow:Using a while_loop for converting ImageProjectiveTransformV3 cause there is no registered converter for this op.\n",
      "Model: \"sequential_11\"\n",
      "_________________________________________________________________\n",
      " Layer (type)                Output Shape              Param #   \n",
      "=================================================================\n",
      " rescaling (Rescaling)       (None, 32, 32, 3)         0         \n",
      "                                                                 \n",
      " augmentation (Sequential)   (None, 32, 32, 3)         0         \n",
      "                                                                 \n",
      " conv2d_127 (Conv2D)         (None, 32, 32, 32)        416       \n",
      "                                                                 \n",
      " conv2d_128 (Conv2D)         (None, 32, 32, 32)        4128      \n",
      "                                                                 \n",
      " conv2d_129 (Conv2D)         (None, 16, 16, 32)        4128      \n",
      "                                                                 \n",
      " batch_normalization_108 (Ba  (None, 16, 16, 32)       128       \n",
      " tchNormalization)                                               \n",
      "                                                                 \n",
      " conv2d_130 (Conv2D)         (None, 16, 16, 64)        8256      \n",
      "                                                                 \n",
      " spatial_dropout2d_15 (Spati  (None, 16, 16, 64)       0         \n",
      " alDropout2D)                                                    \n",
      "                                                                 \n",
      " conv2d_131 (Conv2D)         (None, 16, 16, 64)        16448     \n",
      "                                                                 \n",
      " batch_normalization_109 (Ba  (None, 16, 16, 64)       256       \n",
      " tchNormalization)                                               \n",
      "                                                                 \n",
      " spatial_dropout2d_16 (Spati  (None, 16, 16, 64)       0         \n",
      " alDropout2D)                                                    \n",
      "                                                                 \n",
      " conv2d_132 (Conv2D)         (None, 8, 8, 64)          16448     \n",
      "                                                                 \n",
      " batch_normalization_110 (Ba  (None, 8, 8, 64)         256       \n",
      " tchNormalization)                                               \n",
      "                                                                 \n",
      " conv2d_133 (Conv2D)         (None, 8, 8, 96)          24672     \n",
      "                                                                 \n",
      " batch_normalization_111 (Ba  (None, 8, 8, 96)         384       \n",
      " tchNormalization)                                               \n",
      "                                                                 \n",
      " spatial_dropout2d_17 (Spati  (None, 8, 8, 96)         0         \n",
      " alDropout2D)                                                    \n",
      "                                                                 \n",
      " conv2d_134 (Conv2D)         (None, 8, 8, 96)          36960     \n",
      "                                                                 \n",
      " batch_normalization_112 (Ba  (None, 8, 8, 96)         384       \n",
      " tchNormalization)                                               \n",
      "                                                                 \n",
      " spatial_dropout2d_18 (Spati  (None, 8, 8, 96)         0         \n",
      " alDropout2D)                                                    \n",
      "                                                                 \n",
      " conv2d_135 (Conv2D)         (None, 4, 4, 96)          36960     \n",
      "                                                                 \n",
      " batch_normalization_113 (Ba  (None, 4, 4, 96)         384       \n",
      " tchNormalization)                                               \n",
      "                                                                 \n",
      " conv2d_136 (Conv2D)         (None, 4, 4, 128)         49280     \n",
      "                                                                 \n",
      " batch_normalization_114 (Ba  (None, 4, 4, 128)        512       \n",
      " tchNormalization)                                               \n",
      "                                                                 \n",
      " spatial_dropout2d_19 (Spati  (None, 4, 4, 128)        0         \n",
      " alDropout2D)                                                    \n",
      "                                                                 \n",
      " conv2d_137 (Conv2D)         (None, 4, 4, 128)         65664     \n",
      "                                                                 \n",
      " batch_normalization_115 (Ba  (None, 4, 4, 128)        512       \n",
      " tchNormalization)                                               \n",
      "                                                                 \n",
      " spatial_dropout2d_20 (Spati  (None, 4, 4, 128)        0         \n",
      " alDropout2D)                                                    \n",
      "                                                                 \n",
      " conv2d_138 (Conv2D)         (None, 2, 2, 128)         65664     \n",
      "                                                                 \n",
      " batch_normalization_116 (Ba  (None, 2, 2, 128)        512       \n",
      " tchNormalization)                                               \n",
      "                                                                 \n",
      " conv2d_139 (Conv2D)         (None, 2, 2, 160)         82080     \n",
      "                                                                 \n",
      " batch_normalization_117 (Ba  (None, 2, 2, 160)        640       \n",
      " tchNormalization)                                               \n",
      "                                                                 \n",
      " spatial_dropout2d_21 (Spati  (None, 2, 2, 160)        0         \n",
      " alDropout2D)                                                    \n",
      "                                                                 \n",
      " conv2d_140 (Conv2D)         (None, 2, 2, 160)         102560    \n",
      "                                                                 \n",
      " batch_normalization_118 (Ba  (None, 2, 2, 160)        640       \n",
      " tchNormalization)                                               \n",
      "                                                                 \n",
      " spatial_dropout2d_22 (Spati  (None, 2, 2, 160)        0         \n",
      " alDropout2D)                                                    \n",
      "                                                                 \n",
      " conv2d_141 (Conv2D)         (None, 1, 1, 160)         102560    \n",
      "                                                                 \n",
      " batch_normalization_119 (Ba  (None, 1, 1, 160)        640       \n",
      " tchNormalization)                                               \n",
      "                                                                 \n",
      " conv2d_142 (Conv2D)         (None, 1, 1, 190)         121790    \n",
      "                                                                 \n",
      " batch_normalization_120 (Ba  (None, 1, 1, 190)        760       \n",
      " tchNormalization)                                               \n",
      "                                                                 \n",
      " spatial_dropout2d_23 (Spati  (None, 1, 1, 190)        0         \n",
      " alDropout2D)                                                    \n",
      "                                                                 \n",
      " conv2d_143 (Conv2D)         (None, 1, 1, 190)         36290     \n",
      "                                                                 \n",
      " batch_normalization_121 (Ba  (None, 1, 1, 190)        760       \n",
      " tchNormalization)                                               \n",
      "                                                                 \n",
      " flatten_4 (Flatten)         (None, 190)               0         \n",
      "                                                                 \n",
      " dense_11 (Dense)            (None, 20)                3820      \n",
      "                                                                 \n",
      "=================================================================\n",
      "Total params: 784,892\n",
      "Trainable params: 781,508\n",
      "Non-trainable params: 3,384\n",
      "_________________________________________________________________\n"
     ]
    }
   ],
   "source": [
    "all_conv = keras.models.load_model(\"./models/all_conv_net/1\")\n",
    "all_conv.summary()"
   ]
  },
  {
   "cell_type": "code",
   "execution_count": 4,
   "metadata": {},
   "outputs": [
    {
     "data": {
      "text/plain": [
       "(None, 32, 32, 3)"
      ]
     },
     "execution_count": 4,
     "metadata": {},
     "output_type": "execute_result"
    }
   ],
   "source": [
    "all_conv.layers[0].input_shape"
   ]
  },
  {
   "cell_type": "code",
   "execution_count": 5,
   "metadata": {},
   "outputs": [
    {
     "data": {
      "text/plain": [
       "(None, 20)"
      ]
     },
     "execution_count": 5,
     "metadata": {},
     "output_type": "execute_result"
    }
   ],
   "source": [
    "all_conv.layers[-1].output_shape"
   ]
  },
  {
   "cell_type": "code",
   "execution_count": 7,
   "metadata": {},
   "outputs": [
    {
     "name": "stdout",
     "output_type": "stream",
     "text": [
      "Model: \"sequential_4\"\n",
      "_________________________________________________________________\n",
      " Layer (type)                Output Shape              Param #   \n",
      "=================================================================\n",
      " rescaling (Rescaling)       (None, 32, 32, 3)         0         \n",
      "                                                                 \n",
      " conv2d_34 (Conv2D)          (None, 32, 32, 32)        2432      \n",
      "                                                                 \n",
      " conv2d_35 (Conv2D)          (None, 32, 32, 32)        25632     \n",
      "                                                                 \n",
      " max_pooling2d_15 (MaxPoolin  (None, 16, 16, 32)       0         \n",
      " g2D)                                                            \n",
      "                                                                 \n",
      " conv2d_36 (Conv2D)          (None, 16, 16, 64)        51264     \n",
      "                                                                 \n",
      " batch_normalization_37 (Bat  (None, 16, 16, 64)       256       \n",
      " chNormalization)                                                \n",
      "                                                                 \n",
      " conv2d_37 (Conv2D)          (None, 16, 16, 64)        102464    \n",
      "                                                                 \n",
      " batch_normalization_38 (Bat  (None, 16, 16, 64)       256       \n",
      " chNormalization)                                                \n",
      "                                                                 \n",
      " max_pooling2d_16 (MaxPoolin  (None, 8, 8, 64)         0         \n",
      " g2D)                                                            \n",
      "                                                                 \n",
      " conv2d_38 (Conv2D)          (None, 8, 8, 128)         73856     \n",
      "                                                                 \n",
      " batch_normalization_39 (Bat  (None, 8, 8, 128)        512       \n",
      " chNormalization)                                                \n",
      "                                                                 \n",
      " conv2d_39 (Conv2D)          (None, 8, 8, 128)         147584    \n",
      "                                                                 \n",
      " batch_normalization_40 (Bat  (None, 8, 8, 128)        512       \n",
      " chNormalization)                                                \n",
      "                                                                 \n",
      " max_pooling2d_17 (MaxPoolin  (None, 4, 4, 128)        0         \n",
      " g2D)                                                            \n",
      "                                                                 \n",
      " conv2d_40 (Conv2D)          (None, 4, 4, 128)         147584    \n",
      "                                                                 \n",
      " spatial_dropout2d_16 (Spati  (None, 4, 4, 128)        0         \n",
      " alDropout2D)                                                    \n",
      "                                                                 \n",
      " batch_normalization_41 (Bat  (None, 4, 4, 128)        512       \n",
      " chNormalization)                                                \n",
      "                                                                 \n",
      " conv2d_41 (Conv2D)          (None, 4, 4, 128)         147584    \n",
      "                                                                 \n",
      " spatial_dropout2d_17 (Spati  (None, 4, 4, 128)        0         \n",
      " alDropout2D)                                                    \n",
      "                                                                 \n",
      " batch_normalization_42 (Bat  (None, 4, 4, 128)        512       \n",
      " chNormalization)                                                \n",
      "                                                                 \n",
      " conv2d_42 (Conv2D)          (None, 4, 4, 128)         147584    \n",
      "                                                                 \n",
      " spatial_dropout2d_18 (Spati  (None, 4, 4, 128)        0         \n",
      " alDropout2D)                                                    \n",
      "                                                                 \n",
      " max_pooling2d_18 (MaxPoolin  (None, 2, 2, 128)        0         \n",
      " g2D)                                                            \n",
      "                                                                 \n",
      " batch_normalization_43 (Bat  (None, 2, 2, 128)        512       \n",
      " chNormalization)                                                \n",
      "                                                                 \n",
      " flatten_4 (Flatten)         (None, 512)               0         \n",
      "                                                                 \n",
      " dense_15 (Dense)            (None, 200)               102600    \n",
      "                                                                 \n",
      " dropout_9 (Dropout)         (None, 200)               0         \n",
      "                                                                 \n",
      " batch_normalization_44 (Bat  (None, 200)              800       \n",
      " chNormalization)                                                \n",
      "                                                                 \n",
      " dense_16 (Dense)            (None, 100)               20100     \n",
      "                                                                 \n",
      " dropout_10 (Dropout)        (None, 100)               0         \n",
      "                                                                 \n",
      " batch_normalization_45 (Bat  (None, 100)              400       \n",
      " chNormalization)                                                \n",
      "                                                                 \n",
      " dense_17 (Dense)            (None, 100)               10100     \n",
      "                                                                 \n",
      " dense_18 (Dense)            (None, 20)                2020      \n",
      "                                                                 \n",
      "=================================================================\n",
      "Total params: 985,076\n",
      "Trainable params: 982,940\n",
      "Non-trainable params: 2,136\n",
      "_________________________________________________________________\n"
     ]
    }
   ],
   "source": [
    "vgg = keras.models.load_model(\"./models/vgg_net/1\")\n",
    "vgg.summary()"
   ]
  },
  {
   "cell_type": "code",
   "execution_count": 8,
   "metadata": {},
   "outputs": [
    {
     "data": {
      "text/plain": [
       "(None, 32, 32, 3)"
      ]
     },
     "execution_count": 8,
     "metadata": {},
     "output_type": "execute_result"
    }
   ],
   "source": [
    "vgg.layers[0].input_shape"
   ]
  },
  {
   "cell_type": "code",
   "execution_count": 6,
   "metadata": {},
   "outputs": [
    {
     "ename": "NameError",
     "evalue": "name 'vgg' is not defined",
     "output_type": "error",
     "traceback": [
      "\u001b[0;31m---------------------------------------------------------------------------\u001b[0m",
      "\u001b[0;31mNameError\u001b[0m                                 Traceback (most recent call last)",
      "Cell \u001b[0;32mIn[6], line 1\u001b[0m\n\u001b[0;32m----> 1\u001b[0m vgg\u001b[39m.\u001b[39mlayers[\u001b[39m-\u001b[39m\u001b[39m1\u001b[39m]\u001b[39m.\u001b[39moutput_shape\n",
      "\u001b[0;31mNameError\u001b[0m: name 'vgg' is not defined"
     ]
    }
   ],
   "source": [
    "vgg.layers[-1].output_shape"
   ]
  }
 ],
 "metadata": {
  "kernelspec": {
   "display_name": "base",
   "language": "python",
   "name": "python3"
  },
  "language_info": {
   "codemirror_mode": {
    "name": "ipython",
    "version": 3
   },
   "file_extension": ".py",
   "mimetype": "text/x-python",
   "name": "python",
   "nbconvert_exporter": "python",
   "pygments_lexer": "ipython3",
   "version": "3.9.15"
  },
  "orig_nbformat": 4,
  "vscode": {
   "interpreter": {
    "hash": "7c008b0d8a9d38cced262c592f3ad6349d472d8a8125c888f4602ac50e906787"
   }
  }
 },
 "nbformat": 4,
 "nbformat_minor": 2
}
